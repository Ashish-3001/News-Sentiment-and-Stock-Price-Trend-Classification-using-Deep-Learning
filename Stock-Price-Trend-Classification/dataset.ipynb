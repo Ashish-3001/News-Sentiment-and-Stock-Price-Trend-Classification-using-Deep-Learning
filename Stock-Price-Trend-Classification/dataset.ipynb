{
 "cells": [
  {
   "cell_type": "code",
   "execution_count": 4,
   "metadata": {},
   "outputs": [
    {
     "name": "stderr",
     "output_type": "stream",
     "text": [
      "[*********************100%***********************]  1 of 1 completed\n",
      "[*********************100%***********************]  1 of 1 completed\n",
      "[*********************100%***********************]  1 of 1 completed"
     ]
    },
    {
     "name": "stdout",
     "output_type": "stream",
     "text": [
      "Fetching data for AAPL...\n",
      "Saved AAPL data to stock_data\\AAPL.csv\n",
      "Fetching data for MSFT...\n",
      "Saved MSFT data to stock_data\\MSFT.csv\n",
      "Fetching data for AMD...\n"
     ]
    },
    {
     "name": "stderr",
     "output_type": "stream",
     "text": [
      "\n",
      "[*********************100%***********************]  1 of 1 completed\n",
      "[*********************100%***********************]  1 of 1 completed\n",
      "[*********************100%***********************]  1 of 1 completed"
     ]
    },
    {
     "name": "stdout",
     "output_type": "stream",
     "text": [
      "Saved AMD data to stock_data\\AMD.csv\n",
      "Fetching data for INTC...\n",
      "Saved INTC data to stock_data\\INTC.csv\n",
      "Fetching data for CRM...\n",
      "Saved CRM data to stock_data\\CRM.csv\n",
      "Fetching data for JPM...\n",
      "Saved JPM data to stock_data\\JPM.csv\n",
      "Fetching data for BAC...\n"
     ]
    },
    {
     "name": "stderr",
     "output_type": "stream",
     "text": [
      "\n",
      "[*********************100%***********************]  1 of 1 completed\n",
      "[*********************100%***********************]  1 of 1 completed\n",
      "[*********************100%***********************]  1 of 1 completed\n"
     ]
    },
    {
     "name": "stdout",
     "output_type": "stream",
     "text": [
      "Saved BAC data to stock_data\\BAC.csv\n",
      "Fetching data for WFC...\n",
      "Saved WFC data to stock_data\\WFC.csv\n",
      "Fetching data for GS...\n",
      "Saved GS data to stock_data\\GS.csv\n",
      "Fetching data for SCHW...\n"
     ]
    },
    {
     "name": "stderr",
     "output_type": "stream",
     "text": [
      "[*********************100%***********************]  1 of 1 completed"
     ]
    },
    {
     "name": "stdout",
     "output_type": "stream",
     "text": [
      "Saved SCHW data to stock_data\\SCHW.csv\n",
      "Done\n"
     ]
    },
    {
     "name": "stderr",
     "output_type": "stream",
     "text": [
      "\n"
     ]
    }
   ],
   "source": [
    "import yfinance as yf\n",
    "import os\n",
    "import pandas as pd\n",
    "from datetime import datetime\n",
    "\n",
    "# This is the list of selected stock tickers\n",
    "tickers = [\n",
    "    \"AAPL\", \"MSFT\", \"AMD\", \"INTC\", \"CRM\",   # From Tech\n",
    "    \"JPM\", \"BAC\", \"WFC\", \"GS\", \"SCHW\"       # From Finance\n",
    "]\n",
    "\n",
    "output_folder = \"stock_data\"\n",
    "os.makedirs(output_folder, exist_ok=True)\n",
    "\n",
    "# 8 years from today\n",
    "end_date = datetime.today()\n",
    "start_date = end_date.replace(year=end_date.year - 8)\n",
    "\n",
    "for ticker in tickers:\n",
    "    print(f\"Fetching data for {ticker}...\")\n",
    "    data = yf.download(ticker, start=start_date.strftime('%Y-%m-%d'), end=end_date.strftime('%Y-%m-%d'), interval='1d')\n",
    "    \n",
    "    if not data.empty:\n",
    "        data.reset_index(inplace=True)\n",
    "        csv_path = os.path.join(output_folder, f\"{ticker}.csv\")\n",
    "        data.to_csv(csv_path, index=False)\n",
    "        print(f\"Saved {ticker} data to {csv_path}\")\n",
    "    else:\n",
    "        print(f\"No data found for {ticker}\")\n",
    "\n",
    "print(\"Done\")"
   ]
  },
  {
   "cell_type": "code",
   "execution_count": null,
   "metadata": {},
   "outputs": [
    {
     "name": "stderr",
     "output_type": "stream",
     "text": [
      "[*********************100%***********************]  1 of 1 completed\n",
      "[*********************100%***********************]  1 of 1 completed\n",
      "[*********************100%***********************]  1 of 1 completed"
     ]
    },
    {
     "name": "stdout",
     "output_type": "stream",
     "text": [
      "Fetching: AAPL\n",
      "Fetching: MSFT\n",
      "Fetching: AMD\n",
      "Fetching: INTC\n"
     ]
    },
    {
     "name": "stderr",
     "output_type": "stream",
     "text": [
      "\n",
      "[*********************100%***********************]  1 of 1 completed\n",
      "[*********************100%***********************]  1 of 1 completed\n",
      "[*********************100%***********************]  1 of 1 completed\n",
      "[*********************100%***********************]  1 of 1 completed\n"
     ]
    },
    {
     "name": "stdout",
     "output_type": "stream",
     "text": [
      "Fetching: CRM\n",
      "Fetching: JPM\n",
      "Fetching: BAC\n",
      "Fetching: WFC\n"
     ]
    },
    {
     "name": "stderr",
     "output_type": "stream",
     "text": [
      "[*********************100%***********************]  1 of 1 completed\n",
      "[*********************100%***********************]  1 of 1 completed\n",
      "[*********************100%***********************]  1 of 1 completed\n"
     ]
    },
    {
     "name": "stdout",
     "output_type": "stream",
     "text": [
      "Fetching: GS\n",
      "Fetching: SCHW\n",
      "Done\n"
     ]
    }
   ],
   "source": [
    "# here we are trying to merge all the stock data into one csv file\n",
    "\n",
    "# we keep only the colunms from yfinance and columns  company and ticker then merger it \n",
    "\n",
    "import yfinance as yf\n",
    "import pandas as pd\n",
    "from datetime import datetime\n",
    "\n",
    "stocks = {\n",
    "    \"AAPL\": \"Apple\",\n",
    "    \"MSFT\": \"Microsoft\",\n",
    "    \"AMD\": \"AMD\",\n",
    "    \"INTC\": \"Intel\",\n",
    "    \"CRM\": \"Salesforce\",\n",
    "    \"JPM\": \"JPMorgan\",\n",
    "    \"BAC\": \"Bank of America\",\n",
    "    \"WFC\": \"Wells Fargo\",\n",
    "    \"GS\": \"Goldman Sachs\",\n",
    "    \"SCHW\": \"Charles Schwab\"\n",
    "}\n",
    "\n",
    "end_date = datetime.today()\n",
    "start_date = end_date.replace(year=end_date.year - 8)\n",
    "\n",
    "all_data = []\n",
    "\n",
    "for ticker, name in stocks.items():\n",
    "    print(f\"Fetching: {ticker}\")\n",
    "    df = yf.download(ticker, start=start_date.strftime('%Y-%m-%d'), end=end_date.strftime('%Y-%m-%d'), interval='1d')\n",
    "    \n",
    "    if not df.empty:\n",
    "        df = df[['Open', 'High', 'Low', 'Close', 'Volume']].copy()\n",
    "        df.reset_index(inplace=True)\n",
    "        df['company'] = name\n",
    "        df['ticker'] = ticker\n",
    "        all_data.append(df)\n",
    "    else:\n",
    "        print(f\"No data for {ticker}\")\n",
    "\n",
    "merged_df = pd.concat(all_data, ignore_index=True)\n",
    "\n",
    "merged_df.sort_values(by=['Date', 'ticker'], inplace=True)\n",
    "\n",
    "merged_df.to_csv(\"cleaned_all_stocks_8_years.csv\", index=False)\n",
    "print(\"Done\")\n"
   ]
  },
  {
   "cell_type": "code",
   "execution_count": 7,
   "metadata": {},
   "outputs": [
    {
     "name": "stdout",
     "output_type": "stream",
     "text": [
      "Done \n"
     ]
    },
    {
     "name": "stderr",
     "output_type": "stream",
     "text": [
      "C:\\Users\\HP\\AppData\\Local\\Temp\\ipykernel_21708\\2537344137.py:6: DtypeWarning: Columns (1,2,3,4,5,8,9,10,11,12,13,14,15,16,17,18,19,20,21,22,23,24,25,26,27,28,29,30,31,32,33,34,35,36,37,38,39,40,41,42,43,44,45,46,47,48,49,50,51,52) have mixed types. Specify dtype option on import or set low_memory=False.\n",
      "  df = pd.read_csv(\"cleaned_all_stocks_8_years.csv\")\n"
     ]
    }
   ],
   "source": [
    "# there was some inconsistency in the data too many columns were craeted due improper mergering \n",
    "# we drop the extra columns\n",
    "\n",
    "import pandas as pd\n",
    "\n",
    "df = pd.read_csv(\"cleaned_all_stocks_8_years.csv\")\n",
    "\n",
    "expected_cols = ['Date', 'Open', 'High', 'Low', 'Close', 'Volume', 'company', 'ticker']\n",
    "df = df[expected_cols]\n",
    "\n",
    "df.dropna(inplace=True)\n",
    "\n",
    "df.to_csv(\"final_stocks_8y_cleaned.csv\", index=False)\n",
    "print(\"Done \")\n"
   ]
  }
 ],
 "metadata": {
  "kernelspec": {
   "display_name": "Python 3",
   "language": "python",
   "name": "python3"
  },
  "language_info": {
   "codemirror_mode": {
    "name": "ipython",
    "version": 3
   },
   "file_extension": ".py",
   "mimetype": "text/x-python",
   "name": "python",
   "nbconvert_exporter": "python",
   "pygments_lexer": "ipython3",
   "version": "3.12.6"
  }
 },
 "nbformat": 4,
 "nbformat_minor": 2
}
